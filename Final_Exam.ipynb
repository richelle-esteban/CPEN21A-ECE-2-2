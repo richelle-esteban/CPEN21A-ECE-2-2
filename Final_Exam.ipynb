{
  "nbformat": 4,
  "nbformat_minor": 0,
  "metadata": {
    "colab": {
      "name": "Final Exam.ipynb",
      "provenance": [],
      "collapsed_sections": [],
      "authorship_tag": "ABX9TyMxnSopU+rc1x6GHFIej566",
      "include_colab_link": true
    },
    "kernelspec": {
      "name": "python3",
      "display_name": "Python 3"
    },
    "language_info": {
      "name": "python"
    }
  },
  "cells": [
    {
      "cell_type": "markdown",
      "metadata": {
        "id": "view-in-github",
        "colab_type": "text"
      },
      "source": [
        "<a href=\"https://colab.research.google.com/github/richelle-esteban/CPEN21A-ECE-2-2/blob/main/Final_Exam.ipynb\" target=\"_parent\"><img src=\"https://colab.research.google.com/assets/colab-badge.svg\" alt=\"Open In Colab\"/></a>"
      ]
    },
    {
      "cell_type": "markdown",
      "source": [
        "#Final Exam"
      ],
      "metadata": {
        "id": "gqKifFEPLlr0"
      }
    },
    {
      "cell_type": "markdown",
      "source": [
        "####PROBLEM STATEMENT 1\n",
        "\n",
        "Create a Python program that will produce an output of sum of 10 numbers less than 5 using FOR LOOP statement.\t(30 points)"
      ],
      "metadata": {
        "id": "BE0a2X_CLwJi"
      }
    },
    {
      "cell_type": "code",
      "source": [
        "x = 0\n",
        "y = 1\n",
        "\n",
        "for n in range(10):\n",
        "  print(\"Enter number less than 5: \")\n",
        "  n = int(input(\" \"))\n",
        "  y+=1\n",
        "  x = x+n\n",
        "print(\"the sum of the numbers less than 5 is: \", x)"
      ],
      "metadata": {
        "colab": {
          "base_uri": "https://localhost:8080/"
        },
        "id": "Aqf--9oLLzTa",
        "outputId": "6c13612b-59dd-46a3-cc39-d9b9d4ff24ca"
      },
      "execution_count": 1,
      "outputs": [
        {
          "output_type": "stream",
          "name": "stdout",
          "text": [
            "Enter number less than 5: \n",
            " 1\n",
            "Enter number less than 5: \n",
            " 2\n",
            "Enter number less than 5: \n",
            " 3\n",
            "Enter number less than 5: \n",
            " 4\n",
            "Enter number less than 5: \n",
            " 0\n",
            "Enter number less than 5: \n",
            " -1\n",
            "Enter number less than 5: \n",
            " -2\n",
            "Enter number less than 5: \n",
            " -3\n",
            "Enter number less than 5: \n",
            " -4\n",
            "Enter number less than 5: \n",
            " 0\n",
            "the sum of the numbers less than 5 is:  0\n"
          ]
        }
      ]
    },
    {
      "cell_type": "markdown",
      "source": [
        "####PROBLEM STATEMENT 2\n",
        "\n",
        "Create a Python program that will produce accept five numbers and determine the sum of the first and last number among the five numbers entered using WHILE LOOP    (35 points)"
      ],
      "metadata": {
        "id": "gG2IPNPdbQ5W"
      }
    },
    {
      "cell_type": "code",
      "source": [
        "array=[]\n",
        "i=0\n",
        "\n",
        "while i<5:\n",
        "    x=int(input('Enter a number: '))\n",
        "    i=i+1\n",
        "    array.append(x)\n",
        "\n",
        "sum=array[0]+array[4]\n",
        "print('The sum of the first and last number is ', sum)"
      ],
      "metadata": {
        "colab": {
          "base_uri": "https://localhost:8080/"
        },
        "id": "kl5kmETtbS7W",
        "outputId": "29c0ba3c-01e4-4d36-cf76-24065c2943a6"
      },
      "execution_count": 7,
      "outputs": [
        {
          "output_type": "stream",
          "name": "stdout",
          "text": [
            "Enter a number: 4\n",
            "Enter a number: 1\n",
            "Enter a number: 6\n",
            "Enter a number: 7\n",
            "Enter a number: 1\n",
            "The sum of the first and last number is  5\n"
          ]
        }
      ]
    },
    {
      "cell_type": "markdown",
      "source": [
        "####PROBLEM STATEMENT 3\n",
        "\n",
        "Create a Python program to calculate student grades. It accepts a numerical grade as input and it will display the character grade as output based on the given scale: (Use Nested-IF-Else statement)\t(35 points)"
      ],
      "metadata": {
        "id": "NBcZJdLybz0H"
      }
    },
    {
      "cell_type": "code",
      "source": [
        "a = int(input(\"Enter numerical grade: \"))\n",
        "\n",
        "if a>=90:\n",
        "  print(\"A\")\n",
        "else:\n",
        "  if a>=80:\n",
        "    print(\"B\")\n",
        "  else:\n",
        "    if a>=70:\n",
        "     print(\"C\")\n",
        "    else:\n",
        "      if a>=60:\n",
        "        print(\"D\")\n",
        "      else:\n",
        "        if a>=59:\n",
        "          print(\"F\")\n",
        "        else:\n",
        "          print(\"F\")"
      ],
      "metadata": {
        "colab": {
          "base_uri": "https://localhost:8080/"
        },
        "id": "C_iP3SGVcGEH",
        "outputId": "ab14be59-412a-45ca-8c2b-4ca0607167e4"
      },
      "execution_count": 6,
      "outputs": [
        {
          "output_type": "stream",
          "name": "stdout",
          "text": [
            "Enter numerical grade: 99\n",
            "A\n"
          ]
        }
      ]
    }
  ]
}