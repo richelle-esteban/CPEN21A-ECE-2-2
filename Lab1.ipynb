{
  "nbformat": 4,
  "nbformat_minor": 0,
  "metadata": {
    "colab": {
      "name": "Lab1.ipynb",
      "provenance": [],
      "collapsed_sections": [],
      "authorship_tag": "ABX9TyM9sdrEoWkxz/mD67PhYCK0",
      "include_colab_link": true
    },
    "kernelspec": {
      "name": "python3",
      "display_name": "Python 3"
    },
    "language_info": {
      "name": "python"
    }
  },
  "cells": [
    {
      "cell_type": "markdown",
      "metadata": {
        "id": "view-in-github",
        "colab_type": "text"
      },
      "source": [
        "<a href=\"https://colab.research.google.com/github/richelle-esteban/CPEN21A-ECE-2-2/blob/main/Lab1.ipynb\" target=\"_parent\"><img src=\"https://colab.research.google.com/assets/colab-badge.svg\" alt=\"Open In Colab\"/></a>"
      ]
    },
    {
      "cell_type": "markdown",
      "metadata": {
        "id": "FLCY1_Ylco5a"
      },
      "source": [
        "###Laboratory 1\n",
        "######Welcome to Phyton Programing"
      ]
    },
    {
      "cell_type": "code",
      "metadata": {
        "colab": {
          "base_uri": "https://localhost:8080/"
        },
        "id": "-xycuOvKcwDn",
        "outputId": "0f2e4138-8d89-42c6-ba88-ae9fa3f3ce5a"
      },
      "source": [
        "print (\"Welcome to Phyton Programming\")"
      ],
      "execution_count": 4,
      "outputs": [
        {
          "output_type": "stream",
          "name": "stdout",
          "text": [
            "Welcome to Phyton Programming\n"
          ]
        }
      ]
    },
    {
      "cell_type": "code",
      "metadata": {
        "colab": {
          "base_uri": "https://localhost:8080/"
        },
        "id": "KByxr7W0hlS3",
        "outputId": "f5cb9239-21cf-46ae-ea11-f43d4d90c65c"
      },
      "source": [
        "x = \"Name: Richelle Angelica D. Esteban\"\n",
        "print(x)"
      ],
      "execution_count": 22,
      "outputs": [
        {
          "output_type": "stream",
          "name": "stdout",
          "text": [
            "Name: Richelle Angelica D. Esteban\n"
          ]
        }
      ]
    },
    {
      "cell_type": "code",
      "metadata": {
        "colab": {
          "base_uri": "https://localhost:8080/"
        },
        "id": "c3QOCShCeGH2",
        "outputId": "93d5e0ce-54b0-4ff9-f1bf-6752532a4d99"
      },
      "source": [
        "y = \"Address: 058 Limbon, Indang, Cavite, PH\"\n",
        "print(y)"
      ],
      "execution_count": 20,
      "outputs": [
        {
          "output_type": "stream",
          "name": "stdout",
          "text": [
            "Address: 058 Limbon, Indang, Cavite, PH\n"
          ]
        }
      ]
    },
    {
      "cell_type": "code",
      "metadata": {
        "colab": {
          "base_uri": "https://localhost:8080/"
        },
        "id": "8rkTHOB6eXMt",
        "outputId": "afcab3b4-9fe8-4e57-9590-9c269b6c7908"
      },
      "source": [
        "z = \"Age: 19 years old\"\n",
        "print(z)"
      ],
      "execution_count": 19,
      "outputs": [
        {
          "output_type": "stream",
          "name": "stdout",
          "text": [
            "Age: 19 years old\n"
          ]
        }
      ]
    }
  ]
}