{
  "nbformat": 4,
  "nbformat_minor": 0,
  "metadata": {
    "colab": {
      "name": "Lab1.ipynb",
      "provenance": [],
      "collapsed_sections": [],
      "authorship_tag": "ABX9TyMpylssFvdBNaXXFjWSbTPV",
      "include_colab_link": true
    },
    "kernelspec": {
      "name": "python3",
      "display_name": "Python 3"
    },
    "language_info": {
      "name": "python"
    }
  },
  "cells": [
    {
      "cell_type": "markdown",
      "metadata": {
        "id": "view-in-github",
        "colab_type": "text"
      },
      "source": [
        "<a href=\"https://colab.research.google.com/github/richelle-esteban/CPEN21A-ECE-2-2/blob/main/Lab1.ipynb\" target=\"_parent\"><img src=\"https://colab.research.google.com/assets/colab-badge.svg\" alt=\"Open In Colab\"/></a>"
      ]
    },
    {
      "cell_type": "markdown",
      "metadata": {
        "id": "FLCY1_Ylco5a"
      },
      "source": [
        "###Laboratory 1\n"
      ]
    },
    {
      "cell_type": "code",
      "metadata": {
        "colab": {
          "base_uri": "https://localhost:8080/"
        },
        "id": "-xycuOvKcwDn",
        "outputId": "c15b91ac-d26f-4ec0-e7f7-c0245b1ac628"
      },
      "source": [
        "print (\"Welcome to Python Programming\")"
      ],
      "execution_count": 24,
      "outputs": [
        {
          "output_type": "stream",
          "name": "stdout",
          "text": [
            "Welcome to Python Programming\n"
          ]
        }
      ]
    },
    {
      "cell_type": "code",
      "metadata": {
        "colab": {
          "base_uri": "https://localhost:8080/"
        },
        "id": "0DC7PDLqkGI_",
        "outputId": "1e73ab95-16c3-46d2-c123-83d9bb0d6ed0"
      },
      "source": [
        "x = \"Name: Richelle Angelica D. Esteban\"\n",
        "y = \"Address: 058 Limbon, Indang, Cavite, PH\"\n",
        "z = \"Age: 19 years old\"\n",
        "print(x)\n",
        "print(y)\n",
        "print(z)"
      ],
      "execution_count": 25,
      "outputs": [
        {
          "output_type": "stream",
          "name": "stdout",
          "text": [
            "Name: Richelle Angelica D. Esteban\n",
            "Address: 058 Limbon, Indang, Cavite, PH\n",
            "Age: 19 years old\n"
          ]
        }
      ]
    }
  ]
}