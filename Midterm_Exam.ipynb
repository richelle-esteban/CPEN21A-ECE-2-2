{
  "nbformat": 4,
  "nbformat_minor": 0,
  "metadata": {
    "colab": {
      "name": "Midterm Exam",
      "provenance": [],
      "collapsed_sections": [],
      "authorship_tag": "ABX9TyPec+vNz4Eghul1e6dYECxd",
      "include_colab_link": true
    },
    "kernelspec": {
      "name": "python3",
      "display_name": "Python 3"
    },
    "language_info": {
      "name": "python"
    }
  },
  "cells": [
    {
      "cell_type": "markdown",
      "metadata": {
        "id": "view-in-github",
        "colab_type": "text"
      },
      "source": [
        "<a href=\"https://colab.research.google.com/github/richelle-esteban/CPEN21A-ECE-2-2/blob/main/Midterm_Exam.ipynb\" target=\"_parent\"><img src=\"https://colab.research.google.com/assets/colab-badge.svg\" alt=\"Open In Colab\"/></a>"
      ]
    },
    {
      "cell_type": "markdown",
      "metadata": {
        "id": "QhF-zNLOq_yg"
      },
      "source": [
        "#Midterm Exam"
      ]
    },
    {
      "cell_type": "markdown",
      "metadata": {
        "id": "D_JcRlqGrTA2"
      },
      "source": [
        "##Problem Statement 1"
      ]
    },
    {
      "cell_type": "code",
      "metadata": {
        "colab": {
          "base_uri": "https://localhost:8080/"
        },
        "id": "QwV3efjgrEdM",
        "outputId": "4db7b5c7-e45b-43ab-b463-adb1fee59b15"
      },
      "source": [
        "#information\n",
        "a = \"Full name: Richelle Angelica D. Esteban\"\n",
        "b = \"Student Number: 202014573\"\n",
        "c = \"Age: 19 years old\"\n",
        "d = \"Birthday: 09/22/2002\"\n",
        "e = \"Address: Limbon, Indang, Cavite\"\n",
        "f = \"Course: Bachelor of Science in Electronics and Coomunications Engineering (BSECE)\"\n",
        "g = \"Last Sem GWA: 1.48\"\n",
        "\n",
        "#output process\n",
        "print(a) #Full name\n",
        "print(b) #Student Number\n",
        "print(c) #Age\n",
        "print(d) #Birthday\n",
        "print(e) #Address\n",
        "print(f) #Course\n",
        "print(g) #LAst sem GWA\n"
      ],
      "execution_count": 54,
      "outputs": [
        {
          "output_type": "stream",
          "name": "stdout",
          "text": [
            "Full name: Richelle Angelica D. Esteban\n",
            "Student Number: 202014573\n",
            "Age: 19 years old\n",
            "Birthday: 09/22/2002\n",
            "Address: Limbon, Indang, Cavite\n",
            "Course: Bachelor of Science in Electronics and Coomunications Engineering (BSECE)\n",
            "Last Sem GWA: 1.48\n"
          ]
        }
      ]
    },
    {
      "cell_type": "markdown",
      "metadata": {
        "id": "1wBVq2IzsjSl"
      },
      "source": [
        "##Problem Statement 2"
      ]
    },
    {
      "cell_type": "code",
      "metadata": {
        "colab": {
          "base_uri": "https://localhost:8080/"
        },
        "id": "pHGoCztvuO4g",
        "outputId": "70f52583-64f3-4195-9d92-83f899109900"
      },
      "source": [
        "#variables\n",
        "n = 4\n",
        "answ = \"Y\"\n",
        "\n",
        "#conditions, process, and output\n",
        "print(2<n and n<6) \n",
        "  #this is for condition a\n",
        "print(2<n or n==6) \n",
        "  #this is for condition b\n",
        "print(not 2<n or n==6) \n",
        "  #this is for condition c\n",
        "print(not n<6) \n",
        "  #this is for condition d\n",
        "print(answ==\"Y\" or answ==\"y\") \n",
        "  #this is for condition e\n",
        "print(answ==\"Y\" and answ==\"y\") \n",
        "  #this is for condition f\n",
        "print(not answ==\"y\") \n",
        "  #this is for condition g\n",
        "print((2<n and n==5+1) or answ==\"No\") \n",
        "  #this is for condition h\n",
        "print((n==2 and n==7) or answ==\"Y\") \n",
        "  #this is for condition i\n",
        "print(n==2 and (n==7 or answ==\"Y\")) \n",
        "  #this is for condition j"
      ],
      "execution_count": 55,
      "outputs": [
        {
          "output_type": "stream",
          "name": "stdout",
          "text": [
            "True\n",
            "True\n",
            "False\n",
            "False\n",
            "True\n",
            "False\n",
            "True\n",
            "False\n",
            "True\n",
            "False\n"
          ]
        }
      ]
    },
    {
      "cell_type": "markdown",
      "metadata": {
        "id": "kqOcpFxsw9TQ"
      },
      "source": [
        "##Problem Statement 3"
      ]
    },
    {
      "cell_type": "code",
      "metadata": {
        "colab": {
          "base_uri": "https://localhost:8080/"
        },
        "id": "kT1aIix2w88x",
        "outputId": "ec85a77f-5af7-4a0e-a2d8-db0a5e21bd1f"
      },
      "source": [
        "#variables\n",
        "x =2\n",
        "y = -3\n",
        "w = 7\n",
        "z = -10\n",
        "\n",
        "#computation process and output\n",
        "print(x/y) \n",
        "  #this is for a\n",
        "print(w/y/x) \n",
        "  #this is for b\n",
        "print(z/y%x) \n",
        "  #this is for c\n",
        "print(x%-y*w) \n",
        "  #this is for d\n",
        "print(x%y) \n",
        "  #this is for e\n",
        "print(z%w-y/x*5+5) \n",
        "  #this is for f\n",
        "print(9-x%(2+y)) \n",
        "  #this is for g\n",
        "print(z//w) \n",
        "  #this is for h\n",
        "print((2+y)**2) \n",
        "  #this is for i\n",
        "print(w/x*2) \n",
        "  #this is for j"
      ],
      "execution_count": 49,
      "outputs": [
        {
          "output_type": "stream",
          "name": "stdout",
          "text": [
            "-0.6666666666666666\n",
            "-1.1666666666666667\n",
            "1.3333333333333335\n",
            "14\n",
            "-1\n",
            "16.5\n",
            "9\n",
            "-2\n",
            "1\n",
            "7.0\n"
          ]
        }
      ]
    }
  ]
}