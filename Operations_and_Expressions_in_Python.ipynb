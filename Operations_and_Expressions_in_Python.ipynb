{
  "nbformat": 4,
  "nbformat_minor": 0,
  "metadata": {
    "colab": {
      "name": "Operations  and Expressions in Python",
      "provenance": [],
      "authorship_tag": "ABX9TyMJ4wI5k36YdjD+Cyq+SCL0",
      "include_colab_link": true
    },
    "kernelspec": {
      "name": "python3",
      "display_name": "Python 3"
    },
    "language_info": {
      "name": "python"
    }
  },
  "cells": [
    {
      "cell_type": "markdown",
      "metadata": {
        "id": "view-in-github",
        "colab_type": "text"
      },
      "source": [
        "<a href=\"https://colab.research.google.com/github/richelle-esteban/CPEN21A-ECE-2-2/blob/main/Operations_and_Expressions_in_Python.ipynb\" target=\"_parent\"><img src=\"https://colab.research.google.com/assets/colab-badge.svg\" alt=\"Open In Colab\"/></a>"
      ]
    },
    {
      "cell_type": "markdown",
      "metadata": {
        "id": "j1zLRBCssrkV"
      },
      "source": [
        "##Boolean Operators"
      ]
    },
    {
      "cell_type": "code",
      "metadata": {
        "colab": {
          "base_uri": "https://localhost:8080/"
        },
        "id": "3iHRI1oPsobu",
        "outputId": "609da1cb-fb29-4852-cc91-440397d9816d"
      },
      "source": [
        "print  (10>9)\n",
        "print (10==9)"
      ],
      "execution_count": 14,
      "outputs": [
        {
          "output_type": "stream",
          "name": "stdout",
          "text": [
            "True\n",
            "False\n"
          ]
        }
      ]
    },
    {
      "cell_type": "code",
      "metadata": {
        "colab": {
          "base_uri": "https://localhost:8080/"
        },
        "id": "g3OVhOI_tYOh",
        "outputId": "280b3783-70fe-4db2-faaf-dfe81c92c96b"
      },
      "source": [
        "a = 10\n",
        "b = 9\n",
        "print (a>b)\n",
        "b"
      ],
      "execution_count": 8,
      "outputs": [
        {
          "output_type": "stream",
          "name": "stdout",
          "text": [
            "True\n"
          ]
        },
        {
          "output_type": "execute_result",
          "data": {
            "text/plain": [
              "9"
            ]
          },
          "metadata": {},
          "execution_count": 8
        }
      ]
    },
    {
      "cell_type": "code",
      "metadata": {
        "colab": {
          "base_uri": "https://localhost:8080/"
        },
        "id": "ewonVbTAtpJ-",
        "outputId": "9f009b82-26bd-46af-f0f5-47cd4a4f7542"
      },
      "source": [
        "a = 10\n",
        "b = 9\n",
        "c = 8\n",
        "\n",
        "c = print (a>b)\n",
        "\n",
        "c"
      ],
      "execution_count": 9,
      "outputs": [
        {
          "output_type": "stream",
          "name": "stdout",
          "text": [
            "True\n"
          ]
        }
      ]
    },
    {
      "cell_type": "code",
      "metadata": {
        "colab": {
          "base_uri": "https://localhost:8080/"
        },
        "id": "LegTZBeOuFZG",
        "outputId": "810392e1-7050-4b2e-8243-4473a4b97c26"
      },
      "source": [
        "print (bool(\"Hello\"))\n",
        "print (bool(15))\n",
        "print (bool(True))\n",
        "print(bool(False))\n",
        "print (bool(1))\n",
        "print (bool(0))\n",
        "print (bool(None))\n",
        "print (bool([]))"
      ],
      "execution_count": 19,
      "outputs": [
        {
          "output_type": "stream",
          "name": "stdout",
          "text": [
            "True\n",
            "True\n",
            "True\n",
            "False\n",
            "True\n",
            "False\n",
            "False\n",
            "False\n"
          ]
        }
      ]
    },
    {
      "cell_type": "code",
      "metadata": {
        "colab": {
          "base_uri": "https://localhost:8080/"
        },
        "id": "0VPaboYfu3uH",
        "outputId": "c07a3257-cc7e-4d42-e0fc-264b708f2208"
      },
      "source": [
        "def myFunction(): return True\n",
        "print (myFunction())"
      ],
      "execution_count": 21,
      "outputs": [
        {
          "output_type": "stream",
          "name": "stdout",
          "text": [
            "True\n"
          ]
        }
      ]
    },
    {
      "cell_type": "code",
      "metadata": {
        "colab": {
          "base_uri": "https://localhost:8080/"
        },
        "id": "HaK5tlmzvY7F",
        "outputId": "128a214c-a340-419a-cac8-caaf54bbf8c9"
      },
      "source": [
        "def myFunction(): return True\n",
        "\n",
        "if myFunction():\n",
        "  print (\"True\")\n",
        "else:\n",
        "  print (\"False\")"
      ],
      "execution_count": 33,
      "outputs": [
        {
          "output_type": "stream",
          "name": "stdout",
          "text": [
            "True\n"
          ]
        }
      ]
    },
    {
      "cell_type": "code",
      "metadata": {
        "colab": {
          "base_uri": "https://localhost:8080/"
        },
        "id": "GpF0cwSEwBUl",
        "outputId": "4ddca54c-c4bd-4781-ef62-0eb380ca3c31"
      },
      "source": [
        "print (10>9)\n",
        "\n",
        "a = 6\n",
        "b = 7\n",
        "print (a==b)\n",
        "print (6==6)\n",
        "print (a!=a)"
      ],
      "execution_count": 28,
      "outputs": [
        {
          "output_type": "stream",
          "name": "stdout",
          "text": [
            "True\n",
            "False\n",
            "True\n",
            "False\n"
          ]
        }
      ]
    },
    {
      "cell_type": "markdown",
      "metadata": {
        "id": "wo8Aih1Kw8X8"
      },
      "source": [
        "##Python Operators"
      ]
    },
    {
      "cell_type": "code",
      "metadata": {
        "colab": {
          "base_uri": "https://localhost:8080/"
        },
        "id": "YkNwIUAqwy-N",
        "outputId": "b20204b3-12d9-418f-d6c0-803462790d9e"
      },
      "source": [
        "print (10+5)\n",
        "print (10-5)\n",
        "print (10*5)\n",
        "print (10/5)\n",
        "print (10%5)\n",
        "print (10//3)\n",
        "print (10**2)"
      ],
      "execution_count": 31,
      "outputs": [
        {
          "output_type": "stream",
          "name": "stdout",
          "text": [
            "15\n",
            "5\n",
            "50\n",
            "2.0\n",
            "0\n",
            "3\n",
            "100\n"
          ]
        }
      ]
    },
    {
      "cell_type": "code",
      "metadata": {
        "colab": {
          "base_uri": "https://localhost:8080/"
        },
        "id": "RRYDLmpiySmE",
        "outputId": "4ddca54c-c4bd-4781-ef62-0eb380ca3c31"
      },
      "source": [
        "print (10>9)\n",
        "\n",
        "a = 6 // 0000 0110\n",
        "b = 7 // 0000 0111\n",
        "print (a==b)\n",
        "print (6==6)\n",
        "print (a!=a)"
      ],
      "execution_count": null,
      "outputs": [
        {
          "output_type": "stream",
          "name": "stdout",
          "text": [
            "True\n",
            "False\n",
            "True\n",
            "False\n"
          ]
        }
      ]
    },
    {
      "cell_type": "markdown",
      "metadata": {
        "id": "k7G28AGvycL2"
      },
      "source": [
        "##Bitwise Operators"
      ]
    },
    {
      "cell_type": "code",
      "metadata": {
        "colab": {
          "base_uri": "https://localhost:8080/"
        },
        "id": "PLWcHPSNygPE",
        "outputId": "86de42dd-7ae3-4046-b465-da021e945fdc"
      },
      "source": [
        "a = 60 #0011 1100\n",
        "b = 13 \n",
        "\n",
        "print (a^b)\n",
        "print (-a)\n",
        "print (a<<2)\n",
        "print (a>>2)\n",
        "print (a>>2) # 0000 1111"
      ],
      "execution_count": 39,
      "outputs": [
        {
          "output_type": "stream",
          "name": "stdout",
          "text": [
            "49\n",
            "-60\n",
            "240\n",
            "15\n",
            "15\n"
          ]
        }
      ]
    },
    {
      "cell_type": "markdown",
      "metadata": {
        "id": "pPd4ZFMu01bO"
      },
      "source": [
        "##Assignemnt Operators"
      ]
    },
    {
      "cell_type": "code",
      "metadata": {
        "colab": {
          "base_uri": "https://localhost:8080/"
        },
        "id": "VSC5xvLw04uF",
        "outputId": "cfad02b8-fccc-4ea3-a088-8f9f9a640716"
      },
      "source": [
        "x = 2\n",
        "x +=3 #SameAs x = x + 3\n",
        "print(x)\n",
        "x"
      ],
      "execution_count": 50,
      "outputs": [
        {
          "output_type": "stream",
          "name": "stdout",
          "text": [
            "5\n"
          ]
        },
        {
          "output_type": "execute_result",
          "data": {
            "text/plain": [
              "5"
            ]
          },
          "metadata": {},
          "execution_count": 50
        }
      ]
    },
    {
      "cell_type": "markdown",
      "metadata": {
        "id": "WAjGua5O2ukO"
      },
      "source": [
        "##Logical Operators"
      ]
    },
    {
      "cell_type": "code",
      "metadata": {
        "id": "dqwvjqZn2yNW"
      },
      "source": [
        "x = 5\n",
        "x and x = 5\n",
        "print(x and x)"
      ],
      "execution_count": null,
      "outputs": []
    },
    {
      "cell_type": "code",
      "metadata": {
        "colab": {
          "base_uri": "https://localhost:8080/"
        },
        "id": "t8Lt4cNe3htV",
        "outputId": "4e2a8bce-4aaa-41e1-ad6e-45a606a55189"
      },
      "source": [
        "a = 5\n",
        "b = 6\n",
        "\n",
        "a>b and a==a\n",
        "a<b or b==a"
      ],
      "execution_count": 53,
      "outputs": [
        {
          "output_type": "execute_result",
          "data": {
            "text/plain": [
              "True"
            ]
          },
          "metadata": {},
          "execution_count": 53
        }
      ]
    },
    {
      "cell_type": "code",
      "metadata": {
        "colab": {
          "base_uri": "https://localhost:8080/"
        },
        "id": "wNK1ar4A4B87",
        "outputId": "ce794ab2-2860-4073-ea08-2b022398fe34"
      },
      "source": [
        "a = 5\n",
        "b = 6\n",
        "\n",
        "print(a>b and a==a)\n",
        "print(a<b or b==a)"
      ],
      "execution_count": 54,
      "outputs": [
        {
          "output_type": "stream",
          "name": "stdout",
          "text": [
            "False\n",
            "True\n"
          ]
        }
      ]
    },
    {
      "cell_type": "markdown",
      "metadata": {
        "id": "oGCMxMV44I13"
      },
      "source": [
        "##Identity Operator"
      ]
    },
    {
      "cell_type": "code",
      "metadata": {
        "colab": {
          "base_uri": "https://localhost:8080/"
        },
        "id": "xVHkRWw84LxO",
        "outputId": "ce6c5c82-082c-4109-d59e-cf8e1280fa7d"
      },
      "source": [
        "a is b\n",
        "a is not b"
      ],
      "execution_count": 55,
      "outputs": [
        {
          "output_type": "execute_result",
          "data": {
            "text/plain": [
              "False"
            ]
          },
          "metadata": {},
          "execution_count": 55
        }
      ]
    },
    {
      "cell_type": "code",
      "metadata": {
        "colab": {
          "base_uri": "https://localhost:8080/"
        },
        "id": "fFpH3SM14gAO",
        "outputId": "5e02acb5-f70d-43c1-f9fe-9f2eb4b06728"
      },
      "source": [
        "print(a is b)\n",
        "print(a is not b)"
      ],
      "execution_count": 56,
      "outputs": [
        {
          "output_type": "stream",
          "name": "stdout",
          "text": [
            "False\n",
            "True\n"
          ]
        }
      ]
    }
  ]
}